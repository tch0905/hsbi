{
 "cells": [
  {
   "cell_type": "code",
   "execution_count": 2,
   "outputs": [],
   "source": [
    "import os\n",
    "\n",
    "import ollama\n",
    "import chromadb\n",
    "from langchain_community.document_loaders import PyPDFLoader\n",
    "\n",
    "from langchain_community.vectorstores import Chroma\n",
    "from langchain_community.embeddings import OllamaEmbeddings"
   ],
   "metadata": {
    "collapsed": false,
    "ExecuteTime": {
     "end_time": "2024-10-02T06:03:11.448231800Z",
     "start_time": "2024-10-02T06:03:11.434230400Z"
    }
   },
   "id": "37278982db2e269d"
  },
  {
   "cell_type": "code",
   "execution_count": 3,
   "outputs": [],
   "source": [
    "from utils.markdown_to_string import markdown_file_to_string"
   ],
   "metadata": {
    "collapsed": false,
    "ExecuteTime": {
     "end_time": "2024-10-02T06:03:11.929346200Z",
     "start_time": "2024-10-02T06:03:11.919347Z"
    }
   },
   "id": "f82febddfcf5e881"
  },
  {
   "cell_type": "code",
   "execution_count": 4,
   "outputs": [],
   "source": [
    "# ollama need to be created befoer runing \n",
    "embeddings = OllamaEmbeddings(model=\"hsbi\")\n",
    "\n",
    "vector_directory = 'testing3'\n",
    "os.makedirs(vector_directory, exist_ok=True)\n",
    "\n",
    "client = chromadb.PersistentClient(path=vector_directory)\n"
   ],
   "metadata": {
    "collapsed": false,
    "ExecuteTime": {
     "end_time": "2024-10-02T06:03:12.662282100Z",
     "start_time": "2024-10-02T06:03:12.437368700Z"
    }
   },
   "id": "cb2aea5a65b2f079"
  },
  {
   "cell_type": "code",
   "execution_count": 5,
   "outputs": [],
   "source": [
    "# if the collection is not created\n",
    "collection = client.create_collection(name=\"docs\")"
   ],
   "metadata": {
    "collapsed": false,
    "ExecuteTime": {
     "end_time": "2024-10-02T06:03:12.989245Z",
     "start_time": "2024-10-02T06:03:12.970245300Z"
    }
   },
   "id": "97afeda619563f2f"
  },
  {
   "cell_type": "code",
   "execution_count": 6,
   "outputs": [],
   "source": [
    "# collection = client.get_collection(name=\"docs\")"
   ],
   "metadata": {
    "collapsed": false,
    "ExecuteTime": {
     "end_time": "2024-10-02T06:03:13.602730500Z",
     "start_time": "2024-10-02T06:03:13.586730600Z"
    }
   },
   "id": "367f7bd0841fd4e1"
  },
  {
   "cell_type": "code",
   "execution_count": 7,
   "outputs": [],
   "source": [
    "import nest_asyncio\n",
    "\n",
    "nest_asyncio.apply()\n",
    "\n",
    "from llama_parse import LlamaParse"
   ],
   "metadata": {
    "collapsed": false,
    "ExecuteTime": {
     "end_time": "2024-10-02T06:03:15.010731300Z",
     "start_time": "2024-10-02T06:03:14.074914100Z"
    }
   },
   "id": "f080636d0a7d160c"
  },
  {
   "cell_type": "code",
   "execution_count": 11,
   "outputs": [
    {
     "name": "stderr",
     "output_type": "stream",
     "text": [
      "Parsing files: 100%|██████████| 2/2 [00:48<00:00, 24.30s/it]\n"
     ]
    }
   ],
   "source": [
    "\n",
    "parser = LlamaParse(\n",
    "    api_key=\"llx-VQsncrO19nFgA9cqAIxguyYViqbuc3XhxfwdRaUXm5Y4Mawf\",  \n",
    "    result_type=\"markdown\",  # \"markdown\" and \"text\" are available\n",
    "    num_workers=4,  # if multiple files passed, split in `num_workers` API calls\n",
    "    verbose=True,\n",
    "    language=\"en\",  # Optionally you can define a language, default=en\n",
    ")\n",
    "\n",
    "path_monthly_return = \"./src/2024070301674.pdf\"\n",
    "path_financial_report = \"./src/2023042801118.pdf\"\n",
    "path_sdi = \"./src/test.csv\"\n",
    "\n",
    "\n",
    "documents = parser.load_data([\n",
    "    path_monthly_return,\n",
    "    path_financial_report,\n",
    "])\n",
    "text = [document.text for i, document in enumerate(documents)]\n",
    "text.append( markdown_file_to_string(path_sdi) )"
   ],
   "metadata": {
    "collapsed": false,
    "ExecuteTime": {
     "end_time": "2024-10-02T06:07:28.481071800Z",
     "start_time": "2024-10-02T06:06:39.867750700Z"
    }
   },
   "id": "d96a9b72e8cd4b38"
  },
  {
   "cell_type": "code",
   "execution_count": 12,
   "outputs": [],
   "source": [
    "for i, d in enumerate(text):\n",
    "  response = ollama.embeddings(model=\"mxbai-embed-large\", prompt=d)\n",
    "  embedding = response[\"embedding\"]\n",
    "  collection.add(\n",
    "    ids=[str(i)],\n",
    "    embeddings=[embedding],\n",
    "    documents=[d]\n",
    "  )"
   ],
   "metadata": {
    "collapsed": false,
    "ExecuteTime": {
     "end_time": "2024-10-02T06:08:41.227621Z",
     "start_time": "2024-10-02T06:07:28.484434700Z"
    }
   },
   "id": "66bcf2acc3ca6f7"
  },
  {
   "cell_type": "code",
   "execution_count": 15,
   "outputs": [
    {
     "name": "stdout",
     "output_type": "stream",
     "text": [
      "According to the data, the Number of issued shares (excluding treasury shares) of Logan Group Company Limited (03380) as of the end of the month is **5,685,407,450**.\n"
     ]
    }
   ],
   "source": [
    "prompt = '''\n",
    "What is the Number of issued shares (excluding treasury shares)of Logan Group Company Limited, balance at close of the month?(03380), which shouldn't is not with the authorized/registered shares\n",
    "'''\n",
    "prompt_4_embedding_search = ''''# III. Details of Movements in Issued Shares and/or Treasury Shares\n",
    "'''\n",
    "\n",
    "\n",
    "# generate an embedding for the prompt and retrieve the most relevant doc\n",
    "response = ollama.embeddings(\n",
    "  prompt=prompt_4_embedding_search,\n",
    "  model=\"mxbai-embed-large\"\n",
    ")\n",
    "# n_results is the number of page that the vector db take out\n",
    "results = collection.query(\n",
    "  query_embeddings=[response[\"embedding\"]],\n",
    "  n_results=10\n",
    ")\n",
    "data = results['documents'][0][0]\n",
    "\n",
    "\n",
    "output = ollama.generate(\n",
    "  model=\"llama3\",\n",
    "  prompt=f\"Using this data: {data}. Respond to this prompt: {prompt}\"\n",
    ")\n",
    "\n",
    "print(output['response'])\n",
    "# retriever = embeddings_store.as_retriever()\n",
    "print()\n",
    "#\n",
    "# splits = [\"testing\", \"testing 2 \", \"testing3\"]\n",
    "#\n",
    "# # Embed the text splits into the vector database\n",
    "# embeddings_store.from_texts(splits)\n",
    "#\n",
    "# # Create a retriever object\n",
    "# retriever = embeddings_store.as_retriever()\n",
    "# # Use the retriever to retrieve similar vectors\n",
    "# similar_vectors = retriever.retrieve(\"query_text\")\n",
    "# print(similar_vectors)"
   ],
   "metadata": {
    "collapsed": false,
    "ExecuteTime": {
     "end_time": "2024-10-02T06:15:13.617752300Z",
     "start_time": "2024-10-02T06:14:56.921346700Z"
    }
   },
   "id": "518ec861475219a3"
  },
  {
   "cell_type": "code",
   "execution_count": 16,
   "outputs": [
    {
     "name": "stdout",
     "output_type": "stream",
     "text": [
      "Based on the provided data, there is no information about the number of employees of Logan Group Company Limited. The report only provides biographical information and roles of the executive directors and senior management members, but it does not provide any information about the total number of employees or staff size of the company.\n"
     ]
    }
   ],
   "source": [
    "prompt = '''\n",
    "How many Number of employee of Logan Group Company Limited?\n",
    "'''\n",
    "prompt_4_embedding_search = '''' exployee\n",
    "'''\n",
    "\n",
    "\n",
    "# generate an embedding for the prompt and retrieve the most relevant doc\n",
    "response = ollama.embeddings(\n",
    "  prompt=prompt_4_embedding_search,\n",
    "  model=\"mxbai-embed-large\"\n",
    ")\n",
    "\n",
    "results = collection.query(\n",
    "  query_embeddings=[response[\"embedding\"]],\n",
    "  n_results=10\n",
    ")\n",
    "data = results['documents'][0][0]\n",
    "\n",
    "output = ollama.generate(\n",
    "  model=\"llama3\",\n",
    "  prompt=f\"Using this data: {data}. Respond to this prompt: {prompt}\"\n",
    ")\n",
    "\n",
    "print(output['response'])\n"
   ],
   "metadata": {
    "collapsed": false,
    "ExecuteTime": {
     "end_time": "2024-10-02T08:28:06.336641700Z",
     "start_time": "2024-10-02T08:27:39.658245200Z"
    }
   },
   "id": "688698e66ed500ed"
  },
  {
   "cell_type": "code",
   "execution_count": null,
   "outputs": [],
   "source": [],
   "metadata": {
    "collapsed": false
   },
   "id": "c518c6470d6faae0"
  }
 ],
 "metadata": {
  "kernelspec": {
   "display_name": "Python 3",
   "language": "python",
   "name": "python3"
  },
  "language_info": {
   "codemirror_mode": {
    "name": "ipython",
    "version": 2
   },
   "file_extension": ".py",
   "mimetype": "text/x-python",
   "name": "python",
   "nbconvert_exporter": "python",
   "pygments_lexer": "ipython2",
   "version": "2.7.6"
  }
 },
 "nbformat": 4,
 "nbformat_minor": 5
}
